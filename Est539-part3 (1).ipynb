{
 "cells": [
  {
   "cell_type": "code",
   "execution_count": 3,
   "id": "b7f24f9f",
   "metadata": {},
   "outputs": [
    {
     "name": "stdout",
     "output_type": "stream",
     "text": [
      "       Datos  Años  Dias   Pp  Tmax  Tmin\n",
      "0       1965     1     1  0.0  29.7  14.4\n",
      "1       1965     1     2  0.0  28.7  13.6\n",
      "2       1965     1     3  0.0  29.9  13.2\n",
      "3       1965     1     4  0.0  31.1  15.0\n",
      "4       1965     1     5  0.0  28.3  15.4\n",
      "...      ...   ...   ...  ...   ...   ...\n",
      "20083   2019    12    27  0.0  29.8  17.4\n",
      "20084   2019    12    28  0.0  29.6  18.0\n",
      "20085   2019    12    29  0.0  30.0  18.4\n",
      "20086   2019    12    30  0.0  32.0  18.0\n",
      "20087   2019    12    31  0.0  31.2  18.6\n",
      "\n",
      "[20088 rows x 6 columns]\n"
     ]
    }
   ],
   "source": [
    "import pandas as pd\n",
    "import numpy as np\n",
    "Est539=pd.read_csv(r'C:\\Users\\HP\\Documents\\Estadística Climatológica\\COSTA_CENTRO\\COSTA_CENTRO\\ho00000539.txt',header=None, sep='\t', na_values='-99.9', names=['Datos','Años','Dias','Pp','Tmax','Tmin'])\n",
    "print(Est539)"
   ]
  },
  {
   "cell_type": "code",
   "execution_count": 4,
   "id": "f9a3204a",
   "metadata": {},
   "outputs": [
    {
     "data": {
      "text/plain": [
       "20088"
      ]
     },
     "execution_count": 4,
     "metadata": {},
     "output_type": "execute_result"
    }
   ],
   "source": [
    "time = pd.date_range('1965-1-1','2019-12-31',freq='D')\n",
    "len(time)"
   ]
  },
  {
   "cell_type": "code",
   "execution_count": 5,
   "id": "ab4ee153",
   "metadata": {},
   "outputs": [],
   "source": [
    "Est539['time'] =time"
   ]
  },
  {
   "cell_type": "code",
   "execution_count": 6,
   "id": "b4145499",
   "metadata": {},
   "outputs": [],
   "source": [
    "#del(datos_rain,datos_tmax,datos_tmin)\n",
    "datos_rain = Est539.loc[Est539[\"Pp\"]  >= 0, \"Pp\"]\n",
    "datos_tmin = Est539.loc[Est539[\"Tmin\"]  >= 10, \"Tmin\"]\n",
    "datos_tmax = Est539.loc[Est539[\"Tmax\"]  >= 0, \"Tmax\"]"
   ]
  },
  {
   "cell_type": "code",
   "execution_count": 7,
   "id": "ec076ced",
   "metadata": {},
   "outputs": [],
   "source": [
    "datos_time = Est539.loc[Est539[\"Pp\"]  >= 0, \"time\"]"
   ]
  },
  {
   "cell_type": "code",
   "execution_count": 8,
   "id": "0f952ee5",
   "metadata": {},
   "outputs": [],
   "source": [
    "datos_timet = Est539.loc[Est539[\"Tmax\"]  >= 0, \"time\"]"
   ]
  },
  {
   "cell_type": "code",
   "execution_count": 9,
   "id": "4a831d44",
   "metadata": {},
   "outputs": [],
   "source": [
    "df_tmax = pd.DataFrame()"
   ]
  },
  {
   "cell_type": "code",
   "execution_count": 10,
   "id": "5c1e8514",
   "metadata": {},
   "outputs": [],
   "source": [
    "df_tmax['time'] = datos_timet.values"
   ]
  },
  {
   "cell_type": "code",
   "execution_count": 11,
   "id": "b85e8154",
   "metadata": {},
   "outputs": [],
   "source": [
    "df_tmax['tmax'] = datos_tmax.values"
   ]
  },
  {
   "cell_type": "code",
   "execution_count": 12,
   "id": "e238c891",
   "metadata": {},
   "outputs": [
    {
     "data": {
      "text/html": [
       "<div>\n",
       "<style scoped>\n",
       "    .dataframe tbody tr th:only-of-type {\n",
       "        vertical-align: middle;\n",
       "    }\n",
       "\n",
       "    .dataframe tbody tr th {\n",
       "        vertical-align: top;\n",
       "    }\n",
       "\n",
       "    .dataframe thead th {\n",
       "        text-align: right;\n",
       "    }\n",
       "</style>\n",
       "<table border=\"1\" class=\"dataframe\">\n",
       "  <thead>\n",
       "    <tr style=\"text-align: right;\">\n",
       "      <th></th>\n",
       "      <th>time</th>\n",
       "      <th>tmax</th>\n",
       "    </tr>\n",
       "  </thead>\n",
       "  <tbody>\n",
       "    <tr>\n",
       "      <th>0</th>\n",
       "      <td>1965-01-01</td>\n",
       "      <td>29.7</td>\n",
       "    </tr>\n",
       "    <tr>\n",
       "      <th>1</th>\n",
       "      <td>1965-01-02</td>\n",
       "      <td>28.7</td>\n",
       "    </tr>\n",
       "    <tr>\n",
       "      <th>2</th>\n",
       "      <td>1965-01-03</td>\n",
       "      <td>29.9</td>\n",
       "    </tr>\n",
       "    <tr>\n",
       "      <th>3</th>\n",
       "      <td>1965-01-04</td>\n",
       "      <td>31.1</td>\n",
       "    </tr>\n",
       "    <tr>\n",
       "      <th>4</th>\n",
       "      <td>1965-01-05</td>\n",
       "      <td>28.3</td>\n",
       "    </tr>\n",
       "    <tr>\n",
       "      <th>...</th>\n",
       "      <td>...</td>\n",
       "      <td>...</td>\n",
       "    </tr>\n",
       "    <tr>\n",
       "      <th>19670</th>\n",
       "      <td>2019-12-27</td>\n",
       "      <td>29.8</td>\n",
       "    </tr>\n",
       "    <tr>\n",
       "      <th>19671</th>\n",
       "      <td>2019-12-28</td>\n",
       "      <td>29.6</td>\n",
       "    </tr>\n",
       "    <tr>\n",
       "      <th>19672</th>\n",
       "      <td>2019-12-29</td>\n",
       "      <td>30.0</td>\n",
       "    </tr>\n",
       "    <tr>\n",
       "      <th>19673</th>\n",
       "      <td>2019-12-30</td>\n",
       "      <td>32.0</td>\n",
       "    </tr>\n",
       "    <tr>\n",
       "      <th>19674</th>\n",
       "      <td>2019-12-31</td>\n",
       "      <td>31.2</td>\n",
       "    </tr>\n",
       "  </tbody>\n",
       "</table>\n",
       "<p>19675 rows × 2 columns</p>\n",
       "</div>"
      ],
      "text/plain": [
       "            time  tmax\n",
       "0     1965-01-01  29.7\n",
       "1     1965-01-02  28.7\n",
       "2     1965-01-03  29.9\n",
       "3     1965-01-04  31.1\n",
       "4     1965-01-05  28.3\n",
       "...          ...   ...\n",
       "19670 2019-12-27  29.8\n",
       "19671 2019-12-28  29.6\n",
       "19672 2019-12-29  30.0\n",
       "19673 2019-12-30  32.0\n",
       "19674 2019-12-31  31.2\n",
       "\n",
       "[19675 rows x 2 columns]"
      ]
     },
     "execution_count": 12,
     "metadata": {},
     "output_type": "execute_result"
    }
   ],
   "source": [
    "df_tmax"
   ]
  },
  {
   "cell_type": "code",
   "execution_count": 13,
   "id": "4afc6c73",
   "metadata": {},
   "outputs": [
    {
     "name": "stdout",
     "output_type": "stream",
     "text": [
      "Estadísticas:  count    19675.000000\n",
      "mean        26.070760\n",
      "std          4.269923\n",
      "min         14.600000\n",
      "25%         22.800000\n",
      "50%         26.400000\n",
      "75%         29.800000\n",
      "max         35.100000\n",
      "Name: Tmax, dtype: float64\n"
     ]
    }
   ],
   "source": [
    "print(\"Estadísticas: \", Est539['Tmax'].describe())"
   ]
  },
  {
   "cell_type": "code",
   "execution_count": 14,
   "id": "4e7a3f00",
   "metadata": {},
   "outputs": [
    {
     "data": {
      "text/plain": [
       "<AxesSubplot:xlabel='time'>"
      ]
     },
     "execution_count": 14,
     "metadata": {},
     "output_type": "execute_result"
    },
    {
     "data": {
      "image/png": "[encoded data removed]",
      "text/plain": [
       "<Figure size 432x288 with 1 Axes>"
      ]
     },
     "metadata": {
      "needs_background": "light"
     },
     "output_type": "display_data"
    }
   ],
   "source": [
    "df_tmax.plot(x='time',y='tmax')"
   ]
  },
  {
   "cell_type": "markdown",
   "id": "446abf02",
   "metadata": {},
   "source": [
    "Análisis de tendencia - Cálculo del índice de días cálidos por tener temperatura mayor al percentil 75 de tmax"
   ]
  },
  {
   "cell_type": "code",
   "execution_count": 15,
   "id": "61470093",
   "metadata": {},
   "outputs": [],
   "source": [
    "df_tmax = df_tmax.reset_index()\n",
    "df_tmax['year'] =df_tmax.time.dt.year"
   ]
  },
  {
   "cell_type": "code",
   "execution_count": 16,
   "id": "84bb32f2",
   "metadata": {},
   "outputs": [],
   "source": [
    "#calculo de los dias que cumplen la condicion\n",
    "dias_calidos_anuales = df_tmax[df_tmax.tmax>29.8].groupby('year').count()['tmax'] "
   ]
  },
  {
   "cell_type": "code",
   "execution_count": 17,
   "id": "e9ad82dc",
   "metadata": {},
   "outputs": [
    {
     "data": {
      "text/html": [
       "<div>\n",
       "<style scoped>\n",
       "    .dataframe tbody tr th:only-of-type {\n",
       "        vertical-align: middle;\n",
       "    }\n",
       "\n",
       "    .dataframe tbody tr th {\n",
       "        vertical-align: top;\n",
       "    }\n",
       "\n",
       "    .dataframe thead th {\n",
       "        text-align: right;\n",
       "    }\n",
       "</style>\n",
       "<table border=\"1\" class=\"dataframe\">\n",
       "  <thead>\n",
       "    <tr style=\"text-align: right;\">\n",
       "      <th></th>\n",
       "      <th>year</th>\n",
       "      <th>tmax</th>\n",
       "    </tr>\n",
       "  </thead>\n",
       "  <tbody>\n",
       "    <tr>\n",
       "      <th>0</th>\n",
       "      <td>1965</td>\n",
       "      <td>89</td>\n",
       "    </tr>\n",
       "    <tr>\n",
       "      <th>1</th>\n",
       "      <td>1966</td>\n",
       "      <td>74</td>\n",
       "    </tr>\n",
       "    <tr>\n",
       "      <th>2</th>\n",
       "      <td>1967</td>\n",
       "      <td>89</td>\n",
       "    </tr>\n",
       "    <tr>\n",
       "      <th>3</th>\n",
       "      <td>1968</td>\n",
       "      <td>61</td>\n",
       "    </tr>\n",
       "    <tr>\n",
       "      <th>4</th>\n",
       "      <td>1969</td>\n",
       "      <td>77</td>\n",
       "    </tr>\n",
       "    <tr>\n",
       "      <th>5</th>\n",
       "      <td>1970</td>\n",
       "      <td>64</td>\n",
       "    </tr>\n",
       "    <tr>\n",
       "      <th>6</th>\n",
       "      <td>1971</td>\n",
       "      <td>79</td>\n",
       "    </tr>\n",
       "    <tr>\n",
       "      <th>7</th>\n",
       "      <td>1972</td>\n",
       "      <td>95</td>\n",
       "    </tr>\n",
       "    <tr>\n",
       "      <th>8</th>\n",
       "      <td>1973</td>\n",
       "      <td>87</td>\n",
       "    </tr>\n",
       "    <tr>\n",
       "      <th>9</th>\n",
       "      <td>1974</td>\n",
       "      <td>89</td>\n",
       "    </tr>\n",
       "    <tr>\n",
       "      <th>10</th>\n",
       "      <td>1975</td>\n",
       "      <td>91</td>\n",
       "    </tr>\n",
       "    <tr>\n",
       "      <th>11</th>\n",
       "      <td>1976</td>\n",
       "      <td>78</td>\n",
       "    </tr>\n",
       "    <tr>\n",
       "      <th>12</th>\n",
       "      <td>1977</td>\n",
       "      <td>105</td>\n",
       "    </tr>\n",
       "    <tr>\n",
       "      <th>13</th>\n",
       "      <td>1978</td>\n",
       "      <td>96</td>\n",
       "    </tr>\n",
       "    <tr>\n",
       "      <th>14</th>\n",
       "      <td>1979</td>\n",
       "      <td>103</td>\n",
       "    </tr>\n",
       "    <tr>\n",
       "      <th>15</th>\n",
       "      <td>1980</td>\n",
       "      <td>99</td>\n",
       "    </tr>\n",
       "    <tr>\n",
       "      <th>16</th>\n",
       "      <td>1981</td>\n",
       "      <td>73</td>\n",
       "    </tr>\n",
       "    <tr>\n",
       "      <th>17</th>\n",
       "      <td>1982</td>\n",
       "      <td>111</td>\n",
       "    </tr>\n",
       "    <tr>\n",
       "      <th>18</th>\n",
       "      <td>1983</td>\n",
       "      <td>145</td>\n",
       "    </tr>\n",
       "    <tr>\n",
       "      <th>19</th>\n",
       "      <td>1984</td>\n",
       "      <td>123</td>\n",
       "    </tr>\n",
       "    <tr>\n",
       "      <th>20</th>\n",
       "      <td>1985</td>\n",
       "      <td>118</td>\n",
       "    </tr>\n",
       "    <tr>\n",
       "      <th>21</th>\n",
       "      <td>1986</td>\n",
       "      <td>111</td>\n",
       "    </tr>\n",
       "    <tr>\n",
       "      <th>22</th>\n",
       "      <td>1987</td>\n",
       "      <td>109</td>\n",
       "    </tr>\n",
       "    <tr>\n",
       "      <th>23</th>\n",
       "      <td>1988</td>\n",
       "      <td>91</td>\n",
       "    </tr>\n",
       "    <tr>\n",
       "      <th>24</th>\n",
       "      <td>1989</td>\n",
       "      <td>89</td>\n",
       "    </tr>\n",
       "    <tr>\n",
       "      <th>25</th>\n",
       "      <td>1990</td>\n",
       "      <td>88</td>\n",
       "    </tr>\n",
       "    <tr>\n",
       "      <th>26</th>\n",
       "      <td>1991</td>\n",
       "      <td>71</td>\n",
       "    </tr>\n",
       "    <tr>\n",
       "      <th>27</th>\n",
       "      <td>1992</td>\n",
       "      <td>99</td>\n",
       "    </tr>\n",
       "    <tr>\n",
       "      <th>28</th>\n",
       "      <td>1993</td>\n",
       "      <td>58</td>\n",
       "    </tr>\n",
       "    <tr>\n",
       "      <th>29</th>\n",
       "      <td>1994</td>\n",
       "      <td>50</td>\n",
       "    </tr>\n",
       "    <tr>\n",
       "      <th>30</th>\n",
       "      <td>1995</td>\n",
       "      <td>63</td>\n",
       "    </tr>\n",
       "    <tr>\n",
       "      <th>31</th>\n",
       "      <td>1996</td>\n",
       "      <td>62</td>\n",
       "    </tr>\n",
       "    <tr>\n",
       "      <th>32</th>\n",
       "      <td>1997</td>\n",
       "      <td>84</td>\n",
       "    </tr>\n",
       "    <tr>\n",
       "      <th>33</th>\n",
       "      <td>1998</td>\n",
       "      <td>103</td>\n",
       "    </tr>\n",
       "    <tr>\n",
       "      <th>34</th>\n",
       "      <td>1999</td>\n",
       "      <td>57</td>\n",
       "    </tr>\n",
       "    <tr>\n",
       "      <th>35</th>\n",
       "      <td>2000</td>\n",
       "      <td>79</td>\n",
       "    </tr>\n",
       "    <tr>\n",
       "      <th>36</th>\n",
       "      <td>2001</td>\n",
       "      <td>92</td>\n",
       "    </tr>\n",
       "    <tr>\n",
       "      <th>37</th>\n",
       "      <td>2002</td>\n",
       "      <td>80</td>\n",
       "    </tr>\n",
       "    <tr>\n",
       "      <th>38</th>\n",
       "      <td>2003</td>\n",
       "      <td>80</td>\n",
       "    </tr>\n",
       "    <tr>\n",
       "      <th>39</th>\n",
       "      <td>2004</td>\n",
       "      <td>88</td>\n",
       "    </tr>\n",
       "    <tr>\n",
       "      <th>40</th>\n",
       "      <td>2005</td>\n",
       "      <td>34</td>\n",
       "    </tr>\n",
       "    <tr>\n",
       "      <th>41</th>\n",
       "      <td>2006</td>\n",
       "      <td>77</td>\n",
       "    </tr>\n",
       "    <tr>\n",
       "      <th>42</th>\n",
       "      <td>2007</td>\n",
       "      <td>24</td>\n",
       "    </tr>\n",
       "    <tr>\n",
       "      <th>43</th>\n",
       "      <td>2008</td>\n",
       "      <td>120</td>\n",
       "    </tr>\n",
       "    <tr>\n",
       "      <th>44</th>\n",
       "      <td>2009</td>\n",
       "      <td>116</td>\n",
       "    </tr>\n",
       "    <tr>\n",
       "      <th>45</th>\n",
       "      <td>2010</td>\n",
       "      <td>82</td>\n",
       "    </tr>\n",
       "    <tr>\n",
       "      <th>46</th>\n",
       "      <td>2011</td>\n",
       "      <td>93</td>\n",
       "    </tr>\n",
       "    <tr>\n",
       "      <th>47</th>\n",
       "      <td>2012</td>\n",
       "      <td>116</td>\n",
       "    </tr>\n",
       "    <tr>\n",
       "      <th>48</th>\n",
       "      <td>2013</td>\n",
       "      <td>99</td>\n",
       "    </tr>\n",
       "    <tr>\n",
       "      <th>49</th>\n",
       "      <td>2014</td>\n",
       "      <td>78</td>\n",
       "    </tr>\n",
       "    <tr>\n",
       "      <th>50</th>\n",
       "      <td>2015</td>\n",
       "      <td>67</td>\n",
       "    </tr>\n",
       "    <tr>\n",
       "      <th>51</th>\n",
       "      <td>2016</td>\n",
       "      <td>134</td>\n",
       "    </tr>\n",
       "    <tr>\n",
       "      <th>52</th>\n",
       "      <td>2017</td>\n",
       "      <td>114</td>\n",
       "    </tr>\n",
       "    <tr>\n",
       "      <th>53</th>\n",
       "      <td>2018</td>\n",
       "      <td>114</td>\n",
       "    </tr>\n",
       "    <tr>\n",
       "      <th>54</th>\n",
       "      <td>2019</td>\n",
       "      <td>81</td>\n",
       "    </tr>\n",
       "  </tbody>\n",
       "</table>\n",
       "</div>"
      ],
      "text/plain": [
       "    year  tmax\n",
       "0   1965    89\n",
       "1   1966    74\n",
       "2   1967    89\n",
       "3   1968    61\n",
       "4   1969    77\n",
       "5   1970    64\n",
       "6   1971    79\n",
       "7   1972    95\n",
       "8   1973    87\n",
       "9   1974    89\n",
       "10  1975    91\n",
       "11  1976    78\n",
       "12  1977   105\n",
       "13  1978    96\n",
       "14  1979   103\n",
       "15  1980    99\n",
       "16  1981    73\n",
       "17  1982   111\n",
       "18  1983   145\n",
       "19  1984   123\n",
       "20  1985   118\n",
       "21  1986   111\n",
       "22  1987   109\n",
       "23  1988    91\n",
       "24  1989    89\n",
       "25  1990    88\n",
       "26  1991    71\n",
       "27  1992    99\n",
       "28  1993    58\n",
       "29  1994    50\n",
       "30  1995    63\n",
       "31  1996    62\n",
       "32  1997    84\n",
       "33  1998   103\n",
       "34  1999    57\n",
       "35  2000    79\n",
       "36  2001    92\n",
       "37  2002    80\n",
       "38  2003    80\n",
       "39  2004    88\n",
       "40  2005    34\n",
       "41  2006    77\n",
       "42  2007    24\n",
       "43  2008   120\n",
       "44  2009   116\n",
       "45  2010    82\n",
       "46  2011    93\n",
       "47  2012   116\n",
       "48  2013    99\n",
       "49  2014    78\n",
       "50  2015    67\n",
       "51  2016   134\n",
       "52  2017   114\n",
       "53  2018   114\n",
       "54  2019    81"
      ]
     },
     "execution_count": 17,
     "metadata": {},
     "output_type": "execute_result"
    }
   ],
   "source": [
    "dias_calidos_anuales =dias_calidos_anuales.reset_index()\n",
    "dias_calidos_anuales"
   ]
  },
  {
   "cell_type": "code",
   "execution_count": 18,
   "id": "54f3aa39",
   "metadata": {},
   "outputs": [
    {
     "data": {
      "text/plain": [
       "<AxesSubplot:xlabel='year', ylabel='tmax'>"
      ]
     },
     "execution_count": 18,
     "metadata": {},
     "output_type": "execute_result"
    },
    {
     "data": {
      "image/png": "[encoded data removed]",
      "text/plain": [
       "<Figure size 432x288 with 1 Axes>"
      ]
     },
     "metadata": {
      "needs_background": "light"
     },
     "output_type": "display_data"
    }
   ],
   "source": [
    "#Primero se inspecciona la data, aparentemente hay una tendencia hasta el año 2000\n",
    "#(se puede comprobar con la prueba de hipotesis)\n",
    "dias_calidos_anuales.plot.scatter(x='year',y='tmax')"
   ]
  },
  {
   "cell_type": "code",
   "execution_count": 19,
   "id": "e61ea8a5",
   "metadata": {},
   "outputs": [],
   "source": [
    "import scipy.stats\n",
    "import matplotlib.pyplot as plt\n",
    "import seaborn as sns\n",
    "sns.set(rc={'figure.figsize':(8,5)})"
   ]
  },
  {
   "cell_type": "code",
   "execution_count": 31,
   "id": "b84ed6d4",
   "metadata": {},
   "outputs": [],
   "source": [
    "tmax_year = df_tmax.groupby([df_tmax.time.dt.year.values]).mean()\n",
    "tmax_pred = tmax_year['year'].values*slope+intercept"
   ]
  },
  {
   "cell_type": "code",
   "execution_count": 32,
   "id": "6957924c",
   "metadata": {},
   "outputs": [
    {
     "data": {
      "text/plain": [
       "Text(0.5, 1.0, 'Regresión')"
      ]
     },
     "execution_count": 32,
     "metadata": {},
     "output_type": "execute_result"
    },
    {
     "data": {
      "image/png": "[encoded data removed]",
      "text/plain": [
       "<Figure size 432x288 with 1 Axes>"
      ]
     },
     "metadata": {},
     "output_type": "display_data"
    }
   ],
   "source": [
    "sns.set_context('talk'); plt.figure(figsize=(6,4))\n",
    "plt.subplot(111)\n",
    "sns.regplot(x='year',y='tmax',data=tmax_year,line_kws={'color':'r'},ci=95,scatter_kws={'s':20}); \n",
    "plt.title('Regresión')"
   ]
  },
  {
   "cell_type": "code",
   "execution_count": 20,
   "id": "3c0a5642",
   "metadata": {},
   "outputs": [
    {
     "data": {
      "text/plain": [
       "[None, None]"
      ]
     },
     "execution_count": 20,
     "metadata": {},
     "output_type": "execute_result"
    },
    {
     "data": {
      "image/png": "[encoded data removed]",
      "text/plain": [
       "<Figure size 468x252 with 1 Axes>"
      ]
     },
     "metadata": {},
     "output_type": "display_data"
    }
   ],
   "source": [
    "#Días con de Temperatura Maxima mayor al percentil 75\n",
    "plt.figure(figsize=(6.5,3.5))\n",
    "line=plt.plot(dias_calidos_anuales['year'], dias_calidos_anuales['tmax'])\n",
    "plt.xlabel(\"Años\", fontsize = 12)\n",
    "plt.ylabel(\"Temperatura (C°)\", fontsize = 12)\n",
    "plt.title('Días con Temperatura Maxima mayor a 29.8 - Huayan', fontsize=14, color='brown')\n",
    "plt.setp(line, color='brown', linewidth=1.5)"
   ]
  },
  {
   "cell_type": "code",
   "execution_count": 21,
   "id": "9d9cb1e6",
   "metadata": {},
   "outputs": [],
   "source": [
    "slope, intercept, r_value, p_value, std_err = scipy.stats.linregress(dias_calidos_anuales['year'].values,\n",
    "                       dias_calidos_anuales['tmax'].values)"
   ]
  },
  {
   "cell_type": "code",
   "execution_count": 22,
   "id": "8d6bc14a",
   "metadata": {},
   "outputs": [
    {
     "name": "stdout",
     "output_type": "stream",
     "text": [
      "Valor de p y r:  0.7869688827068007 y 0.03728403930177078\n"
     ]
    }
   ],
   "source": [
    "# caso años 1965 - 2019\n",
    "print(\"Valor de p y r: \",p_value ,\"y\",r_value)\n",
    "## el pvalor es alto. \n",
    "##Se acepta la Ho\n",
    "#Se acepta la hipotesis "
   ]
  },
  {
   "cell_type": "code",
   "execution_count": 23,
   "id": "1b855209",
   "metadata": {},
   "outputs": [],
   "source": [
    "# caso años 1965 - 1990\n",
    "slope2, intercept2, r_value2, p_value2, std_err2 = scipy.stats.linregress(\n",
    "                        dias_calidos_anuales[dias_calidos_anuales.year<=1990]['year'].values,\n",
    "                        dias_calidos_anuales[dias_calidos_anuales.year<=1990]['tmax'].values)"
   ]
  },
  {
   "cell_type": "code",
   "execution_count": 24,
   "id": "919b3fc3",
   "metadata": {},
   "outputs": [
    {
     "name": "stdout",
     "output_type": "stream",
     "text": [
      "Valor de p y r:  0.003250876798192781 y 0.555016188853102\n"
     ]
    }
   ],
   "source": [
    "print(\"Valor de p y r: \",p_value2 ,\"y\",r_value2)\n",
    "## el pvalor disminuye y el nivel de significancia de 0.05 o 0.1 ahora es mayor al p\n",
    "#Se rechaza la hipotesis"
   ]
  },
  {
   "cell_type": "code",
   "execution_count": 25,
   "id": "7289af55",
   "metadata": {},
   "outputs": [],
   "source": [
    "# caso años 1965 - 1980\n",
    "slope3, intercept3, r_value3, p_value3, std_err3 = scipy.stats.linregress(\n",
    "                        dias_calidos_anuales[dias_calidos_anuales.year<=1980]['year'].values,\n",
    "                        dias_calidos_anuales[dias_calidos_anuales.year<=1980]['tmax'].values)"
   ]
  },
  {
   "cell_type": "code",
   "execution_count": 26,
   "id": "0befa119",
   "metadata": {},
   "outputs": [
    {
     "name": "stdout",
     "output_type": "stream",
     "text": [
      "Valor de p y r:  0.0087272969456008 y 0.6312676322522894\n"
     ]
    }
   ],
   "source": [
    "print(\"Valor de p y r: \",p_value3 ,\"y\",r_value3)\n",
    "## el pvalor disminuye y el nivel de significancia de 0.05 o 0.1 ahora es mayor al p\n",
    "#Se rechaza la hipotesis"
   ]
  },
  {
   "cell_type": "code",
   "execution_count": 27,
   "id": "956ae1c8",
   "metadata": {},
   "outputs": [],
   "source": [
    "## Se concluye que para la estación Huayán sí hay una tendencia significativa en \n",
    "#los días cálidos anuales por lo que hay un aumento significativo en la temperatura máxima lo cual genera mayor cantidad de días cálidos"
   ]
  },
  {
   "cell_type": "code",
   "execution_count": null,
   "id": "0bde5b9b",
   "metadata": {},
   "outputs": [],
   "source": []
  },
  {
   "cell_type": "code",
   "execution_count": null,
   "id": "e3beb498",
   "metadata": {},
   "outputs": [],
   "source": []
  }
 ],
 "metadata": {
  "kernelspec": {
   "display_name": "Python 3 (ipykernel)",
   "language": "python",
   "name": "python3"
  },
  "language_info": {
   "codemirror_mode": {
    "name": "ipython",
    "version": 3
   },
   "file_extension": ".py",
   "mimetype": "text/x-python",
   "name": "python",
   "nbconvert_exporter": "python",
   "pygments_lexer": "ipython3",
   "version": "3.7.10"
  }
 },
 "nbformat": 4,
 "nbformat_minor": 5
}
